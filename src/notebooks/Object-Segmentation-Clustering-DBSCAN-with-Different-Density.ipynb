{
 "cells": [
  {
   "cell_type": "code",
   "execution_count": 167,
   "metadata": {
    "scrolled": false
   },
   "outputs": [],
   "source": [
    "import pandas as pd\n",
    "import numpy as np\n",
    "import matplotlib.pyplot as plt\n",
    "import sys\n",
    "import random\n",
    "from sklearn.cluster import KMeans\n",
    "from sklearn.cluster import DBSCAN\n",
    "# from sklearn.cluster import OPTICS\n",
    "import collections"
   ]
  },
  {
   "cell_type": "code",
   "execution_count": 168,
   "metadata": {
    "scrolled": false
   },
   "outputs": [],
   "source": [
    "# Remove the outliers\n",
    "def remove_outliers(file_path):\n",
    "    # return the list of dataframes\n",
    "    dataframe_lists = []\n",
    "    # Creating the dataframe and selecting the required columns\n",
    "    for i in range(64):\n",
    "        df = pd.read_csv(file_path, usecols=[1,2,3,4], skiprows=i*72000, nrows = 72000, names=[\"lz\",\"X\",\"Y\",\"Z\"])\n",
    "        df['radiusSquare'] = df['X']*df['X']+df['Y']*df['Y']+df['Z']*df['Z']\n",
    "        df['radius'] = np.sqrt(df['radiusSquare']).round(1)\n",
    "        df['freq'] = df.groupby(['lz','radius'])['radius'].transform('count')\n",
    "        for j in range(64):\n",
    "            maxfreq = df[(df['lz']==j) & (df['radius']!=0)]['freq'].max()\n",
    "            while maxfreq>100:\n",
    "                df.drop(df[(df['lz']==j) & (df['freq']==maxfreq)].index, inplace=True)\n",
    "                maxfreq = df[(df['lz']==j) & (df['radius']!=0)]['freq'].max()\n",
    "                df.drop(df[(df['lz']==j) & (df['radius']==0)].index, inplace=True)\n",
    "        dataframe_lists.append(df.iloc[:,1:4])\n",
    "    return dataframe_lists"
   ]
  },
  {
   "cell_type": "code",
   "execution_count": 169,
   "metadata": {
    "scrolled": false
   },
   "outputs": [],
   "source": [
    "# atm = remove_outliers(\"/home/kia/Collected-Datasets/DEBS2019/debs2019_initial_dataset/Atm/in.csv\")\n",
    "\n",
    "# This the second data set that contains multiple objects\n",
    "allData= remove_outliers(\"/home/kia/Collected-Datasets/DEBS2019/debs2019_dataset2/in.csv\")\n",
    "\n",
    "\n",
    "mX=np.array(allData[0]['X'])\n",
    "mY=np.array(allData[0]['Y'])\n",
    "mZ=np.array(allData[0]['Z'])\n",
    "\n",
    "\n"
   ]
  },
  {
   "cell_type": "code",
   "execution_count": 170,
   "metadata": {
    "scrolled": true
   },
   "outputs": [
    {
     "name": "stdout",
     "output_type": "stream",
     "text": [
      "38\n",
      "0\n"
     ]
    }
   ],
   "source": [
    "DataForClustering =  np.array(list(zip(mX, mY, mZ))) \n",
    "\n",
    "clustering = DBSCAN(eps=1, min_samples=10).fit(DataForClustering)\n",
    "\n",
    "labels = clustering.labels_\n",
    "\n",
    "\n",
    "labels = labels + 1 \n",
    "print(max(labels))\n",
    "print(min(labels))"
   ]
  },
  {
   "cell_type": "code",
   "execution_count": 171,
   "metadata": {
    "scrolled": false
   },
   "outputs": [
    {
     "name": "stdout",
     "output_type": "stream",
     "text": [
      "50\n",
      "29.186\n",
      "29.0\n"
     ]
    }
   ],
   "source": [
    "def isInt(value):\n",
    "    try:\n",
    "        int(value)\n",
    "        return True\n",
    "    except:\n",
    "        return False\n",
    "\n",
    "\n",
    "numOfObjects = []\n",
    "\n",
    "# Out put data.\n",
    "# We need to get the number of objects. \n",
    "pathOutput=\"/home/kia/Collected-Datasets/DEBS2019/debs2019_dataset2/out.csv\"\n",
    "\n",
    "with open(pathOutput) as fp:  \n",
    "   line = fp.readline()\n",
    "   cnt = 1\n",
    "   while line:\n",
    "    # print(\"Line {}: {}\".format(cnt, line.strip()))\n",
    "        lineArr=line.split(\",\")\n",
    "        num = 0\n",
    "        for index in range(1, len(lineArr)):\n",
    "            if(isInt(lineArr[index])):\n",
    "               num +=int(lineArr[index])\n",
    "        numOfObjects.append(num)\n",
    "        #print(line.split(\",\")[1])\n",
    "        line = fp.readline()\n",
    "        cnt += 1\n",
    "        \n",
    "        \n",
    "        \n",
    "print(max(numOfObjects))\n",
    "\n",
    "aList=np.array(numOfObjects)\n",
    "print(np.mean(aList))\n",
    "print(np.median(aList))"
   ]
  },
  {
   "cell_type": "code",
   "execution_count": 172,
   "metadata": {
    "scrolled": false
   },
   "outputs": [],
   "source": [
    "# clustering with DBSCAN \n",
    "def doClusteringWithDBSCAN(data, eps=1, min_samples=16):\n",
    "    \n",
    "    clustering = DBSCAN(eps, min_samples).fit(data)\n",
    "\n",
    "    labels = clustering.labels_\n",
    "\n",
    "    labels = labels +1 \n",
    "    \n",
    "    return max(labels)"
   ]
  },
  {
   "cell_type": "code",
   "execution_count": 173,
   "metadata": {
    "scrolled": true
   },
   "outputs": [],
   "source": [
    "from scipy import stats \n"
   ]
  },
  {
   "cell_type": "code",
   "execution_count": 174,
   "metadata": {
    "scrolled": false
   },
   "outputs": [
    {
     "name": "stdout",
     "output_type": "stream",
     "text": [
      "0 14362.107467897948 1 16\n",
      "0  Number Of Clusters:  32 , Difference is:  1\n",
      "1 14360.539251224742 1 16\n",
      "1  Number Of Clusters:  26 , Difference is:  -1\n",
      "2 14354.502273646314 1 16\n",
      "2  Number Of Clusters:  28 , Difference is:  -3\n",
      "3 14320.71906901381 1 16\n",
      "3  Number Of Clusters:  17 , Difference is:  0\n",
      "4 14358.634878175537 1 16\n",
      "4  Number Of Clusters:  20 , Difference is:  -4\n",
      "5 14358.89280100912 1 16\n",
      "5  Number Of Clusters:  35 , Difference is:  -1\n",
      "6 14358.783788932851 1 16\n",
      "6  Number Of Clusters:  33 , Difference is:  2\n",
      "7 14351.874143458026 1 16\n",
      "7  Number Of Clusters:  24 , Difference is:  -4\n",
      "8 14350.613622470155 1 16\n",
      "8  Number Of Clusters:  16 , Difference is:  1\n",
      "9 14360.516636177545 1 16\n",
      "9  Number Of Clusters:  33 , Difference is:  -1\n",
      "10 14361.475928564338 1 16\n",
      "10  Number Of Clusters:  41 , Difference is:  -2\n",
      "11 14360.718481942182 1 16\n",
      "11  Number Of Clusters:  43 , Difference is:  4\n",
      "12 14360.85913381866 1 16\n",
      "12  Number Of Clusters:  42 , Difference is:  -2\n",
      "13 14356.823248703728 1 16\n",
      "13  Number Of Clusters:  12 , Difference is:  0\n",
      "14 14359.92456507105 1 16\n",
      "14  Number Of Clusters:  19 , Difference is:  0\n",
      "15 14358.348499914948 1 16\n",
      "15  Number Of Clusters:  30 , Difference is:  -4\n",
      "16 14360.635710762876 1 16\n",
      "16  Number Of Clusters:  15 , Difference is:  1\n",
      "17 14357.27729539781 1 16\n",
      "17  Number Of Clusters:  30 , Difference is:  0\n",
      "18 14364.217141989458 1 16\n",
      "18  Number Of Clusters:  29 , Difference is:  -1\n",
      "19 14362.097483435125 1 16\n",
      "19  Number Of Clusters:  44 , Difference is:  1\n",
      "20 14361.927276624123 1 16\n",
      "20  Number Of Clusters:  23 , Difference is:  -1\n",
      "21 14361.704993691685 1 16\n",
      "21  Number Of Clusters:  24 , Difference is:  -1\n",
      "22 14360.792028767675 1 16\n",
      "22  Number Of Clusters:  20 , Difference is:  -2\n",
      "23 14355.826539419084 1 16\n",
      "23  Number Of Clusters:  28 , Difference is:  1\n",
      "24 14358.042099639988 1 16\n",
      "24  Number Of Clusters:  24 , Difference is:  0\n",
      "25 14351.029969682186 1 16\n",
      "25  Number Of Clusters:  15 , Difference is:  0\n",
      "26 14359.446794790887 1 16\n",
      "26  Number Of Clusters:  29 , Difference is:  -2\n",
      "27 14361.58556315186 1 16\n",
      "27  Number Of Clusters:  47 , Difference is:  -2\n",
      "28 14361.541423183537 1 16\n",
      "28  Number Of Clusters:  40 , Difference is:  0\n",
      "29 14353.89559694476 1 16\n",
      "29  Number Of Clusters:  40 , Difference is:  5\n",
      "30 14354.945837449573 1 16\n",
      "30  Number Of Clusters:  18 , Difference is:  -2\n",
      "31 14361.746327785637 1 16\n",
      "31  Number Of Clusters:  10 , Difference is:  0\n",
      "32 14358.636476858395 1 16\n",
      "32  Number Of Clusters:  22 , Difference is:  -1\n",
      "33 14357.085796713258 1 16\n",
      "33  Number Of Clusters:  36 , Difference is:  3\n",
      "34 14352.624160425841 1 16\n",
      "34  Number Of Clusters:  15 , Difference is:  -1\n",
      "35 14357.822778680786 1 16\n",
      "35  Number Of Clusters:  12 , Difference is:  -1\n",
      "36 14359.61605791844 1 16\n",
      "36  Number Of Clusters:  18 , Difference is:  2\n",
      "37 14354.943693996785 1 16\n",
      "37  Number Of Clusters:  38 , Difference is:  1\n",
      "38 14359.933474855814 1 16\n",
      "38  Number Of Clusters:  35 , Difference is:  2\n",
      "39 14356.181066966594 1 16\n",
      "39  Number Of Clusters:  24 , Difference is:  -1\n",
      "40 14359.155171924802 1 16\n",
      "40  Number Of Clusters:  34 , Difference is:  3\n",
      "41 14356.10028972496 1 16\n",
      "41  Number Of Clusters:  14 , Difference is:  0\n",
      "42 14360.501062038971 1 16\n",
      "42  Number Of Clusters:  25 , Difference is:  -1\n",
      "43 14357.452155068037 1 16\n",
      "43  Number Of Clusters:  10 , Difference is:  1\n",
      "44 14358.776162496913 1 16\n",
      "44  Number Of Clusters:  41 , Difference is:  2\n",
      "45 14321.894000286942 1 16\n",
      "45  Number Of Clusters:  15 , Difference is:  -2\n",
      "46 14357.259102923525 1 16\n",
      "46  Number Of Clusters:  13 , Difference is:  1\n",
      "47 14353.4404368159 1 16\n",
      "47  Number Of Clusters:  18 , Difference is:  -2\n",
      "48 14355.36018153757 1 16\n",
      "48  Number Of Clusters:  38 , Difference is:  1\n",
      "49 14362.945326522116 1 16\n",
      "49  Number Of Clusters:  36 , Difference is:  5\n",
      "50 14358.01306358521 1 16\n",
      "50  Number Of Clusters:  25 , Difference is:  1\n",
      "51 14360.473873633218 1 16\n",
      "51  Number Of Clusters:  42 , Difference is:  0\n",
      "52 14356.831929711092 1 16\n",
      "52  Number Of Clusters:  35 , Difference is:  13\n",
      "53 14351.566741689348 1 16\n",
      "53  Number Of Clusters:  20 , Difference is:  0\n",
      "54 14359.999339563477 1 16\n",
      "54  Number Of Clusters:  37 , Difference is:  3\n",
      "55 14360.281591781235 1 16\n",
      "55  Number Of Clusters:  44 , Difference is:  2\n",
      "56 14322.600908018361 1 16\n",
      "56  Number Of Clusters:  14 , Difference is:  -3\n",
      "57 14358.860423170725 1 16\n",
      "57  Number Of Clusters:  12 , Difference is:  -2\n",
      "58 14356.708804487625 1 16\n",
      "58  Number Of Clusters:  27 , Difference is:  -3\n",
      "59 14359.1429930901 1 16\n",
      "59  Number Of Clusters:  35 , Difference is:  -3\n",
      "60 14362.836768735502 1 16\n",
      "60  Number Of Clusters:  36 , Difference is:  0\n",
      "61 14361.66182231185 1 16\n",
      "61  Number Of Clusters:  46 , Difference is:  -5\n",
      "62 14360.063000558159 1 16\n",
      "62  Number Of Clusters:  28 , Difference is:  0\n",
      "63 14358.79561031601 1 16\n",
      "63  Number Of Clusters:  38 , Difference is:  0\n",
      "114\n",
      "[[1.         0.12353337]\n",
      " [0.12353337 1.        ]]\n"
     ]
    }
   ],
   "source": [
    "# run a test. \n",
    "import math \n",
    "\n",
    "difs=[]\n",
    "dens=[]\n",
    "\n",
    "sum = 0 \n",
    "for i in range(64):\n",
    "    data =  np.array(list(zip(np.array(allData[i]['X']), np.array(allData[i]['Y']), np.array(allData[i]['Z'])))) \n",
    "    \n",
    "    #gaussian_kernel = stats.gaussian_kde(np.array(allData[i]['X']))\n",
    "    # values = np.argmax(gaussian_kernel)\n",
    "    # print(gaussian_kernel)\n",
    "    a= np.square (np.array(allData[i]['X'])) + np.array(allData[i]['Y']) + np.square (np.array(allData[i]['Z'])) \n",
    "    # a= np.array(allData[i]['Y'])\n",
    "\n",
    "    # hist, bin_edges = np.histogram(a, density=True)\n",
    "    # print(hist)\n",
    "    # print(i, max(hist))\n",
    "    # min_samples_value=round(0.0105*(1/max(hist)), 0)\n",
    "    \n",
    "    # min_samples_value=round(-2.2 * math.log(max(hist)), 0)\n",
    "    \n",
    "    # min_samples_value= 80*max(hist)\n",
    "    min_samples_value=16\n",
    "    eps_value=1\n",
    "    print(i, max(a), round(eps_value, 2) , round(min_samples_value, 2))\n",
    "    \n",
    "\n",
    "    numberOfClusters = doClusteringWithDBSCAN(data, eps=eps_value, min_samples=min_samples_value)\n",
    "    print(i, \" Number Of Clusters: \", numberOfClusters, \", Difference is: \", numOfObjects[i] - numberOfClusters)\n",
    "    sum = sum + (abs(numOfObjects[i] - numberOfClusters))\n",
    "    \n",
    "    dens.append(max(a))\n",
    "    difs.append(numOfObjects[i] - numberOfClusters)\n",
    "    \n",
    "    \n",
    "print(sum)\n",
    "\n",
    "# print(dens)\n",
    "# print(difs)\n",
    "\n",
    "print(np.corrcoef(dens, difs))"
   ]
  },
  {
   "cell_type": "code",
   "execution_count": 47,
   "metadata": {
    "scrolled": true
   },
   "outputs": [
    {
     "data": {
      "text/plain": [
       "0.022130927154838345"
      ]
     },
     "execution_count": 47,
     "metadata": {},
     "output_type": "execute_result"
    }
   ],
   "source": [
    "i=52\n",
    "\n",
    "data =  np.array(list(zip(np.array(allData[i]['X']), np.array(allData[i]['Y']), np.array(allData[i]['Z'])))) \n",
    "a=np.array(allData[i]['Z'])\n",
    "\n",
    "hist, bin_edges = np.histogram(a, density=True)\n",
    "\n",
    "max(hist)\n",
    "#plt.hist(a, bins='auto')  # arguments are passed to np.histogram\n",
    "#plt.title(\"Histogram with 'auto' bins\")\n",
    "#plt.show()\n",
    "#numberOfClusters = doClusteringWithDBSCAN(data, eps=1, min_samples=9)\n",
    "#print(i, \" Number Of Clusters: \", numberOfClusters, \", Difference is: \", numOfObjects[i] - numberOfClusters)"
   ]
  },
  {
   "cell_type": "code",
   "execution_count": null,
   "metadata": {
    "scrolled": true
   },
   "outputs": [],
   "source": []
  }
 ],
 "metadata": {
  "kernelspec": {
   "display_name": "Python 3",
   "language": "python",
   "name": "python3"
  },
  "language_info": {
   "codemirror_mode": {
    "name": "ipython",
    "version": 3
   },
   "file_extension": ".py",
   "mimetype": "text/x-python",
   "name": "python",
   "nbconvert_exporter": "python",
   "pygments_lexer": "ipython3",
   "version": "3.7.0"
  }
 },
 "nbformat": 4,
 "nbformat_minor": 2
}

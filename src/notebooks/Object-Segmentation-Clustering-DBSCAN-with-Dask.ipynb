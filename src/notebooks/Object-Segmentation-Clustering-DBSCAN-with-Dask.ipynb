{
 "cells": [
  {
   "cell_type": "code",
   "execution_count": 1,
   "metadata": {
    "scrolled": true
   },
   "outputs": [],
   "source": [
    "import pandas as pd\n",
    "import numpy as np\n",
    "import matplotlib.pyplot as plt\n",
    "import sys\n",
    "import random\n",
    "\n",
    "from sklearn.cluster import KMeans\n",
    "from sklearn.cluster import DBSCAN\n",
    "# from sklearn.externals.joblib import parallel_backend\n",
    "from sklearn.datasets import make_blobs\n",
    "from sklearn.externals import joblib\n",
    "\n",
    "\n",
    "import collections\n",
    "\n",
    "from dask.distributed import Client, progress\n",
    "\n",
    "\n",
    "import datetime"
   ]
  },
  {
   "cell_type": "code",
   "execution_count": 2,
   "metadata": {
    "scrolled": true
   },
   "outputs": [],
   "source": [
    "# Remove the outliers\n",
    "def remove_outliers(file_path):\n",
    "    # return the list of dataframes\n",
    "    dataframe_lists = []\n",
    "    # Creating the dataframe and selecting the required columns\n",
    "    for i in range(64):\n",
    "        df = pd.read_csv(file_path, usecols=[1,2,3,4], skiprows=i*72000, nrows = 72000, names=[\"lz\",\"X\",\"Y\",\"Z\"])\n",
    "        df['radiusSquare'] = df['X']*df['X']+df['Y']*df['Y']+df['Z']*df['Z']\n",
    "        df['radius'] = np.sqrt(df['radiusSquare']).round(1)\n",
    "        df['freq'] = df.groupby(['lz','radius'])['radius'].transform('count')\n",
    "        for j in range(64):\n",
    "            maxfreq = df[(df['lz']==j) & (df['radius']!=0)]['freq'].max()\n",
    "            while maxfreq>100:\n",
    "                df.drop(df[(df['lz']==j) & (df['freq']==maxfreq)].index, inplace=True)\n",
    "                maxfreq = df[(df['lz']==j) & (df['radius']!=0)]['freq'].max()\n",
    "                df.drop(df[(df['lz']==j) & (df['radius']==0)].index, inplace=True)\n",
    "        dataframe_lists.append(df.iloc[:,1:4])\n",
    "    return dataframe_lists"
   ]
  },
  {
   "cell_type": "code",
   "execution_count": 3,
   "metadata": {
    "scrolled": true
   },
   "outputs": [],
   "source": [
    "# atm = remove_outliers(\"/home/kia/Collected-Datasets/DEBS2019/debs2019_initial_dataset/Atm/in.csv\")\n",
    "\n",
    "# This the second data set that contains multiple objects\n",
    "allData= remove_outliers(\"/home/kia/Collected-Datasets/DEBS2019/debs2019_dataset2/in.csv\")\n",
    "\n",
    "\n",
    "mX=np.array(allData[0]['X'])\n",
    "mY=np.array(allData[0]['Y'])\n",
    "mZ=np.array(allData[0]['Z'])\n",
    "\n",
    "\n"
   ]
  },
  {
   "cell_type": "code",
   "execution_count": 4,
   "metadata": {},
   "outputs": [
    {
     "name": "stdout",
     "output_type": "stream",
     "text": [
      "38\n",
      "0\n"
     ]
    }
   ],
   "source": [
    "DataForClustering =  np.array(list(zip(mX, mY, mZ))) \n",
    "\n",
    "clustering = DBSCAN(eps=1, min_samples=10).fit(DataForClustering)\n",
    "\n",
    "labels = clustering.labels_\n",
    "\n",
    "\n",
    "labels = labels + 1 \n",
    "print(max(labels))\n",
    "print(min(labels))"
   ]
  },
  {
   "cell_type": "code",
   "execution_count": 5,
   "metadata": {
    "scrolled": true
   },
   "outputs": [],
   "source": [
    "# clustering with DBSCAN \n",
    "def doClusteringWithDBSCAN(data):\n",
    "    \n",
    "    clustering = DBSCAN(eps=1, min_samples=16).fit(data)\n",
    "\n",
    "    labels = clustering.labels_\n",
    "    \n",
    "    return max(labels)"
   ]
  },
  {
   "cell_type": "code",
   "execution_count": 6,
   "metadata": {},
   "outputs": [],
   "source": [
    "# clustering with DBSCAN \n",
    "def doClusteringWithDBSCAN_parallel(data):\n",
    "    \n",
    "    client = Client(processes=False, threads_per_worker=4, n_workers=2, memory_limit='2GB')\n",
    "    model = DBSCAN(eps=1, min_samples=16)\n",
    "    \n",
    "    with joblib.parallel_backend('dask'):\n",
    "        model.fit(data)\n",
    "\n",
    "    labels = clustering.labels_\n",
    "\n",
    "    return max(labels)"
   ]
  },
  {
   "cell_type": "code",
   "execution_count": 7,
   "metadata": {
    "scrolled": false
   },
   "outputs": [
    {
     "name": "stdout",
     "output_type": "stream",
     "text": [
      "0:00:00.181168\n"
     ]
    }
   ],
   "source": [
    "# run a test. \n",
    "now = datetime.datetime.now()\n",
    "maxIter=1\n",
    "sum = 0 \n",
    "for i in range(maxIter):\n",
    "    data =  np.array(list(zip(np.array(allData[i]['X']), np.array(allData[i]['Y']), np.array(allData[i]['Z'])))) \n",
    "    numberOfClusters = doClusteringWithDBSCAN(data)\n",
    "    \n",
    "\n",
    "\n",
    "# print(sum)   \n",
    "print(datetime.datetime.now() - now)    \n",
    "    "
   ]
  },
  {
   "cell_type": "code",
   "execution_count": null,
   "metadata": {},
   "outputs": [],
   "source": [
    "now = datetime.datetime.now()\n",
    "maxIter=2\n",
    "sum = 0 \n",
    "for i in range(maxIter):\n",
    "    data =  np.array(list(zip(np.array(allData[i]['X']), np.array(allData[i]['Y']), np.array(allData[i]['Z'])))) \n",
    "    numberOfClusters = doClusteringWithDBSCAN_parallel(data)\n",
    "\n",
    "# print(sum)   \n",
    "print(datetime.datetime.now() - now)"
   ]
  },
  {
   "cell_type": "code",
   "execution_count": null,
   "metadata": {},
   "outputs": [],
   "source": []
  },
  {
   "cell_type": "code",
   "execution_count": null,
   "metadata": {},
   "outputs": [],
   "source": []
  }
 ],
 "metadata": {
  "kernelspec": {
   "display_name": "Python 3",
   "language": "python",
   "name": "python3"
  },
  "language_info": {
   "codemirror_mode": {
    "name": "ipython",
    "version": 3
   },
   "file_extension": ".py",
   "mimetype": "text/x-python",
   "name": "python",
   "nbconvert_exporter": "python",
   "pygments_lexer": "ipython3",
   "version": "3.7.0"
  }
 },
 "nbformat": 4,
 "nbformat_minor": 2
}

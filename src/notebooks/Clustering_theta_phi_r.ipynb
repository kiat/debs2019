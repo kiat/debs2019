{
 "cells": [
  {
   "cell_type": "code",
   "execution_count": null,
   "metadata": {},
   "outputs": [],
   "source": [
    "import numpy as np\n",
    "import pandas as pd\n",
    "import matplotlib.pyplot as plt\n",
    "from mpl_toolkits.mplot3d import Axes3D\n",
    "import pickle\n",
    "import plotly as py\n",
    "from plotly.offline import plot, iplot\n",
    "from scipy import stats\n",
    "import plotly.graph_objs as go\n",
    "from sklearn.cluster import DBSCAN\n",
    "py.offline.init_notebook_mode(connected=True)\n",
    "\n",
    "%matplotlib notebook"
   ]
  },
  {
   "cell_type": "code",
   "execution_count": null,
   "metadata": {},
   "outputs": [],
   "source": [
    "# path in the file\n",
    "path_to_data = \"/home/samba693/DataChallenge/debs2019_dataset2/\"\n",
    "path_to_outliers = \"/home/samba693/Documents/DEBS/debs2019/src/ssh-kd/data/outliers.pkl\""
   ]
  },
  {
   "cell_type": "code",
   "execution_count": null,
   "metadata": {},
   "outputs": [],
   "source": [
    "# Read in the file\n",
    "df = pd.read_csv(path_to_data+\"in.csv\",usecols=[1,2,3,4],names=[\"laser_id\",\"X\",\"Y\",\"Z\"])\n",
    "num_of_scenes = len(df) / 72000\n",
    "dataframes = []\n",
    "\n",
    "for i in range(int(num_of_scenes)):\n",
    "    start = i * 72000\n",
    "    end = start + 72000\n",
    "    dataframes.append(df.iloc[start:end, :])"
   ]
  },
  {
   "cell_type": "code",
   "execution_count": null,
   "metadata": {},
   "outputs": [],
   "source": [
    "\n",
    "out_file = open(path_to_data+\"out.csv\", 'r').readlines()\n",
    "outfile = [i.rstrip() for i in out_file]\n",
    "outfile = [i.split(',') for i in outfile]\n",
    "outfile = [i[1:] for i in outfile]\n",
    "\n",
    "outfile_list = []\n",
    "out_cluster = []\n",
    "for i in outfile:\n",
    "    a  = {}\n",
    "    for j in range(0,len(i),2):\n",
    "        a[i[j]] = int(i[j+1])\n",
    "    out_cluster.append(sum(a.values()))\n",
    "    outfile_list.append(a)"
   ]
  },
  {
   "cell_type": "code",
   "execution_count": null,
   "metadata": {},
   "outputs": [],
   "source": [
    "# remove the outliers\n",
    "def remove_out(df,path_out = path_to_outliers):\n",
    "    pd.options.mode.chained_assignment = None\n",
    "    outliers = pd.read_pickle(path_out)\n",
    "    max_rad = outliers[0]\n",
    "    min_rad = outliers[1]\n",
    "\n",
    "    df[\"radius\"] = df.X.pow(2).add(df.Y.pow(2).add(df.Z.pow(2))).pow(0.5).round(1)\n",
    "    rad = np.array(df.radius)\n",
    "    bool_vec = (rad <= max_rad) & (rad >= min_rad)\n",
    "#     bool_vec = (rad >= min_rad)\n",
    "    df = df[~bool_vec]\n",
    "    df.drop(df[df[\"radius\"] == 0].index, inplace=True)\n",
    "#     df = df[df['laser_id']>30]\n",
    "    \n",
    "    return df"
   ]
  },
  {
   "cell_type": "code",
   "execution_count": null,
   "metadata": {},
   "outputs": [],
   "source": [
    "def plot_3d(df):\n",
    "    fig = plt.figure()\n",
    "    ax = fig.add_subplot(111,projection='3d')\n",
    "    ax.scatter(df['X'],df['Z'],df['Y'], marker='o')"
   ]
  },
  {
   "cell_type": "code",
   "execution_count": null,
   "metadata": {},
   "outputs": [],
   "source": [
    "def plot_plot(object_data_frame,labels=False,save=False):\n",
    "    if labels:\n",
    "        labels1 = tuple(object_data_frame['labels'].tolist())\n",
    "        use_labels = labels1\n",
    "    else:\n",
    "        use_labels = 'black'\n",
    "    x = tuple(object_data_frame['X'].tolist())\n",
    "    y = tuple(object_data_frame['Y'].tolist())\n",
    "    z = tuple(object_data_frame['Z'].tolist())\n",
    "    \n",
    "    trace = go.Scatter3d(\n",
    "            x = x,\n",
    "            y = z,\n",
    "            z = y,\n",
    "            mode = 'markers',\n",
    "            marker = dict(\n",
    "                        color=use_labels,\n",
    "                        colorscale='Viridis',\n",
    "                        size = 1,\n",
    "                        opacity = 0.8)\n",
    "            )\n",
    "    layout = go.Layout(\n",
    "                    scene = dict(\n",
    "                    xaxis = dict(\n",
    "                        nticks=0, range = [-150,150],),\n",
    "                    yaxis = dict(\n",
    "                        nticks=0, range = [-100,100],),\n",
    "                    zaxis = dict(\n",
    "                        nticks=0, range = [-10,100],),),\n",
    "                  )\n",
    "    data=[trace]\n",
    "    fig = go.Figure(data=data, layout=layout)\n",
    "    if save:\n",
    "        plot(fig, filename = \"scene_0_{}.html\".format(labels1[0]),auto_open=False, show_link = False)\n",
    "    else:\n",
    "        iplot(fig)"
   ]
  },
  {
   "cell_type": "code",
   "execution_count": null,
   "metadata": {},
   "outputs": [],
   "source": [
    "# used for plots for paper\n",
    "\n",
    "# temp = dataframes[0]\n",
    "# temp = temp[(temp['X']>=0) & (temp['Y']<=20) & (temp['Z']>=0)]\n",
    "# plot_plot(temp)\n",
    "\n",
    "# temp1 = remove_out(dataframes[0])\n",
    "# temp1 = temp1[(temp1['X']>=0) & (temp1['Y']<=20) & (temp1['Z']>=0)]\n",
    "# plot_plot(temp1)\n",
    "\n",
    "# # clustering with DBSCAN and removing noise\n",
    "# def doClusteringWithDBSCAN(data):    \n",
    "#     clustering = DBSCAN(eps=1, min_samples=16).fit(data)\n",
    "#     labels = clustering.labels_\n",
    "#     return labels\n",
    "# data =  np.array(\n",
    "#                 list(\n",
    "#                     zip(\n",
    "#                         np.array(temp1['X']), \n",
    "#                         np.array(temp1['Y']), \n",
    "#                         np.array(temp1['Z'])\n",
    "#                     )\n",
    "#                 )\n",
    "#             )\n",
    "\n",
    "# labels = doClusteringWithDBSCAN(data)\n",
    "\n",
    "# temp1['labels'] = labels\n",
    "\n",
    "# temp2 = temp1[~(temp1['labels']==-1)]\n",
    "\n",
    "# plot_plot(temp2,True)\n"
   ]
  },
  {
   "cell_type": "code",
   "execution_count": null,
   "metadata": {},
   "outputs": [],
   "source": [
    "def removeOutWithDBSCAN(temp1, top=False, count=0, objects=False):\n",
    "    if top:\n",
    "        data =  np.array(\n",
    "                list(\n",
    "                    zip(\n",
    "                        np.array(temp1['X']), \n",
    "                        np.array(temp1['Z'])\n",
    "                    )\n",
    "                )\n",
    "            )\n",
    "    else:\n",
    "        data =  np.array(\n",
    "                    list(\n",
    "                        zip(\n",
    "                            np.array(temp1['X']), \n",
    "                            np.array(temp1['Y']), \n",
    "                            np.array(temp1['Z'])\n",
    "                        )\n",
    "                    )\n",
    "                )\n",
    "        \n",
    "    clustering = DBSCAN(eps=1, min_samples=16).fit(data)\n",
    "    labels = clustering.labels_\n",
    "    temp1['labels'] = labels\n",
    "    temp1 = temp1[~(labels==-1)]\n",
    "    if objects:\n",
    "        temp1['labels'] = temp1['labels']+count\n",
    "    return temp1"
   ]
  },
  {
   "cell_type": "code",
   "execution_count": null,
   "metadata": {},
   "outputs": [],
   "source": [
    "import math\n",
    "# calculating degree\n",
    "calDegrees=lambda x : round(math.degrees(math.atan(x)), 1)\n",
    "vfunc = np.vectorize(calDegrees)\n",
    "def tang(x,y):\n",
    "    \"\"\" Get Tan inverse of y/x to get the angle.\"\"\"\n",
    "    tag= np.divide(y, x)\n",
    "    return tag\n",
    "\n",
    "\n",
    "def get_degrees(c):\n",
    "    \"\"\" Get the degree for the data based upon cordinate plane.\n",
    "    Tan behaviour in cordinate system.\n",
    "    1st cord: theta\n",
    "    2nd cord: 180+theta\n",
    "    3rd cord: 180+theta\n",
    "    4th cord: 360+theta\n",
    "    return: degree of dataframe rows\n",
    "    \"\"\"\n",
    "    \n",
    "    if c['X']==0 and c['Z']>0:\n",
    "        return 90\n",
    "    if c['X']==0 and c['Z']<0:\n",
    "        return 270\n",
    "    \n",
    "    degrees =  vfunc(tang(c['X'],c['Z']))\n",
    "    if c['X']<0:\n",
    "        degrees = 180+degrees\n",
    "    if (c['X']>0 and c['Z']<0):\n",
    "        degrees = 360+degrees\n",
    "        \n",
    "    return degrees\n",
    "\n",
    "def angle_of_elevation(x,y,z):\n",
    "    \"\"\"Get Tan inverse of y/sqrt(x^2+z^2) to get the angle\"\"\"\n",
    "    den = math.sqrt(x**2+z**2)\n",
    "    etan= np.divide(y,den)\n",
    "    return etan \n",
    "\n",
    "\n",
    "def get_phi(c):\n",
    "    \"\"\" Get the degree for the data based upon cordinate plane.\n",
    "    return: degree of dataframe rows\n",
    "    \"\"\"\n",
    "    phi =  vfunc(angle_of_elevation(c['X'],c['Y'],c['Z']))\n",
    "    phi =  90-phi\n",
    "    return np.float(phi)\n",
    "\n",
    "def get_r(x,y,z):\n",
    "    \"\"\"Get density r\"\"\"\n",
    "    den = math.sqrt(x**2+z**2)\n",
    "    return den \n",
    "\n",
    "def get_den(c):\n",
    "    r = get_r(c['X'],c['Y'],c['Z'])\n",
    "    return r"
   ]
  },
  {
   "cell_type": "code",
   "execution_count": null,
   "metadata": {},
   "outputs": [],
   "source": [
    "# Using Dataframe apply, a func is run on dataframe, pass the datafram to get_degrees\n",
    "\n",
    "def get_different_sectors(temp, threshold=0.7):\n",
    "    temp['angles'] = temp.apply(get_degrees,axis=1)\n",
    "    temp['top_rad'] = temp.apply(get_den,axis=1)\n",
    "    temp.angles = temp.angles.astype(np.float)\n",
    "    unique_angles = sorted(list(set(temp.angles.value_counts().index)))\n",
    "    indexes_to_split = list(np.where(np.diff(unique_angles)>=threshold)[0]+1)\n",
    "    start=0\n",
    "    if len(unique_angles)==0:\n",
    "        angle_ranges = [unique_angles]\n",
    "    else:\n",
    "        angle_ranges = []\n",
    "    for i in indexes_to_split:\n",
    "        angle_ranges.append(unique_angles[start:i])\n",
    "        start = i\n",
    "    list_of_sectors = []\n",
    "    angles = np.array(temp.angles)\n",
    "    for j in angle_ranges:\n",
    "        max_angle = max(j)\n",
    "        min_angle = min(j)\n",
    "        bool_vec = (angles>=min_angle) & (angles<=max_angle)\n",
    "        list_of_sectors.append(temp[bool_vec])\n",
    "    list_of_valid = []\n",
    "    for i,j in enumerate(list_of_sectors):\n",
    "        if len(j)>10:\n",
    "            j['labels'] = i\n",
    "            list_of_valid.append(j)\n",
    "    return list_of_valid\n",
    "\n",
    "def get_valid_density(list_of_valid_sec):\n",
    "    list_of_valid_density = []\n",
    "    for temp in list_of_valid_sec:\n",
    "        # Initializing the kernel\n",
    "        kernel = stats.gaussian_kde(temp['top_rad'].to_numpy(),bw_method=0.05)\n",
    "\n",
    "        # Evaluating the values\n",
    "        to_plot2 = kernel.evaluate(np.linspace(-20,180,500))\n",
    "        # plt.plot(np.linspace(-20,180,500),to_plot2)\n",
    "        # Threshold ==0.01\n",
    "        bool_vec = [~(to_plot2<=0.001)]\n",
    "\n",
    "        # Selecting valid values wrt threshold\n",
    "        to_plot = to_plot2[bool_vec]\n",
    "        x_val = np.linspace(-20,180,500)[bool_vec]\n",
    "\n",
    "        # Selecting the boundary points\n",
    "        req_indexes = np.where((np.diff(x_val)<=0.5)==False)[0]+1\n",
    "        markers_on = x_val[req_indexes].round(0).astype(int).tolist()\n",
    "        markers_on = [0]+markers_on+[180]\n",
    "\n",
    "        # Calculate the dense indexs\n",
    "        to_dense = np.split(to_plot,req_indexes)\n",
    "        try:\n",
    "            max_dense = [np.max(j) for j in to_dense]\n",
    "        except:\n",
    "#             print(x_val)\n",
    "#             print(to_dense)\n",
    "#             print(req_indexes)\n",
    "            list_of_valid_density.append(temp)\n",
    "\n",
    "    #     print(markers_on)\n",
    "    #     print(max_dense)\n",
    "\n",
    "        # Selecting the valid objects\n",
    "        for i in range(len(markers_on)-1):\n",
    "            if max_dense[i]>=0.01:\n",
    "                temp1 = temp[ (temp['top_rad']>=markers_on[i]) & (temp['top_rad']<=markers_on[i+1]) ]\n",
    "                if len(temp1)>=15:\n",
    "                    list_of_valid_density.append(temp1)\n",
    "    return list_of_valid_density"
   ]
  },
  {
   "cell_type": "code",
   "execution_count": null,
   "metadata": {},
   "outputs": [],
   "source": [
    "# plot the different sectors\n",
    "def plot_sectors(list_of_sec,labels = True, save=False):\n",
    "    df = pd.concat(list_of_sec)\n",
    "    plot_plot(df, labels, save)"
   ]
  },
  {
   "cell_type": "code",
   "execution_count": null,
   "metadata": {
    "scrolled": false
   },
   "outputs": [],
   "source": [
    "# Radius density\n",
    "# temp = list_of_valid_sec[13]\n",
    "# temp['top_rad'] = (temp['top_rad']**0.5).round(1)\n",
    "# temp['top_rad'].plot.kde(bw_method=0.1,figsize=(10,10))"
   ]
  },
  {
   "cell_type": "code",
   "execution_count": null,
   "metadata": {},
   "outputs": [],
   "source": [
    "# # plot_sectors([list_of_valid_density[2]],True)\n",
    "# # plot_sectors(list_of_valid_density,True)\n",
    "# # plot_sectors([list_of_valid_sec[2]],True)\n",
    "\n",
    "# import warnings\n",
    "# warnings.simplefilter(action='ignore', category=FutureWarning)\n",
    "\n",
    "# count=0\n",
    "# for i in dataframes:\n",
    "#     list_of_valid_sec = get_different_sectors(remove_out(i))\n",
    "#     list_of_valid_density = get_valid_density(list_of_valid_sec)\n",
    "#     print(\"original clusters = {}, number of detected = {}\".format(out_cluster[count],len(list_of_valid_density)))\n",
    "#     count+=1\n",
    "\n",
    "# list_of_valid_sec = get_different_sectors(remove_out(dataframes[0]))\n",
    "# list_of_valid_density = get_valid_density(list_of_valid_sec)\n",
    "# print(\"original clusters = {}, number of detected = {}\".format(out_cluster[0],len(list_of_valid_density)))"
   ]
  },
  {
   "cell_type": "code",
   "execution_count": null,
   "metadata": {},
   "outputs": [],
   "source": [
    "# for i in range(len(markers_on)-1):    \n",
    "#     basic_plot3 = basic_plot2[ (basic_plot2['X']>=markers_on[i]) & (basic_plot2['X']<=markers_on[i+1])]\n",
    "#     plt.plot(basic_plot3['X'].to_numpy(),basic_plot3['Y'].to_numpy())\n",
    "\n",
    "# out_cluster[3]\n",
    "# plot_sectors(list_of_valid_density,True)"
   ]
  },
  {
   "cell_type": "code",
   "execution_count": null,
   "metadata": {},
   "outputs": [],
   "source": [
    "# for i in range(len(markers_on)-1):    \n",
    "#     temp1 = temp[ (temp['top_rad']>=markers_on[i]) & (temp['top_rad']<=markers_on[i+1]) ]\n",
    "#     if len(temp1)>=20:\n",
    "#         list_of_valid_density.append(temp1)\n",
    "# plot_plot(remove_out(dataframes[499]))"
   ]
  },
  {
   "cell_type": "code",
   "execution_count": null,
   "metadata": {},
   "outputs": [],
   "source": [
    "# plot_sectors([list_of_valid_density[11]],True)"
   ]
  },
  {
   "cell_type": "code",
   "execution_count": null,
   "metadata": {},
   "outputs": [],
   "source": [
    "# plot_sectors([list_of_valid_sec[13]], True)\n",
    "# print(out_cluster[3])\n",
    "# print(outfile_list[3])\n",
    "# print(len(list_of_valid_sec))"
   ]
  },
  {
   "cell_type": "code",
   "execution_count": null,
   "metadata": {},
   "outputs": [],
   "source": [
    "# # return the unique phi and angle\n",
    "# def get_phi_sectors(list_of_valid_sec,thresold = 0.6):\n",
    "#     list_of_sec_phi = []\n",
    "#     for ij in list_of_valid_sec:\n",
    "#         ij['phi'] = ij.apply(get_phi,axis=1)\n",
    "#         unique_phi = sorted(list(set(ij.phi.value_counts().index)))\n",
    "#         indexes_to_split = list(np.where(np.diff(unique_phi)>=thresold)[0]+1)\n",
    "#         start=0\n",
    "#         if len(indexes_to_split)==0:\n",
    "#             phi_ranges = [unique_phi]\n",
    "#         else:\n",
    "#             phi_ranges = []\n",
    "#         for i in indexes_to_split:\n",
    "#             phi_ranges.append(unique_phi[start:i])\n",
    "#             start = i\n",
    "\n",
    "#         angles = np.array(ij.phi)\n",
    "#         for j in phi_ranges:\n",
    "#             max_angle = max(j)\n",
    "#             min_angle = min(j)\n",
    "#             bool_vec = (angles>=min_angle) & (angles<=max_angle)\n",
    "#             list_of_sec_phi.append(ij[bool_vec])\n",
    "\n",
    "#     list_of_valid_sec_phi = []\n",
    "#     for i,j in enumerate(list_of_sec_phi):\n",
    "#         if len(j)>10:\n",
    "#             j['labels'] = i\n",
    "#             list_of_valid_sec_phi.append(j)\n",
    "#     return list_of_valid_sec_phi"
   ]
  },
  {
   "cell_type": "code",
   "execution_count": null,
   "metadata": {},
   "outputs": [],
   "source": [
    "# list_of_valid_sec_phi = get_phi_sectors(list_of_valid_sec)"
   ]
  },
  {
   "cell_type": "code",
   "execution_count": null,
   "metadata": {},
   "outputs": [],
   "source": [
    "# plot_sectors([list_of_valid_sec_phi[13]],True)\n",
    "# print(len(list_of_valid_sec_phi))"
   ]
  },
  {
   "cell_type": "code",
   "execution_count": null,
   "metadata": {},
   "outputs": [],
   "source": [
    "# # return the unique phi and angle\n",
    "# def get_valid_r(list_of_sec_phi, thresold=2):\n",
    "#     list_of_r = []\n",
    "#     for ij in list_of_valid_sec_phi:\n",
    "#         ij['r'] = ij.apply(get_den,axis=1)\n",
    "#         temp = ij.r.round(1).value_counts()\n",
    "#         unique_r = sorted(list(set(temp[temp>5].index)))\n",
    "#         indexes_to_split = list(np.where(np.diff(unique_r)>=thresold)[0]+1)\n",
    "#         start=0\n",
    "#         if len(indexes_to_split)==0:\n",
    "#             phi_ranges = [unique_r]\n",
    "#         else:\n",
    "#             phi_ranges = []\n",
    "#         for i in indexes_to_split:\n",
    "#             phi_ranges.append(unique_r[start:i])\n",
    "#             start = i\n",
    "\n",
    "#         angles = np.array(ij.r)\n",
    "#         for j in phi_ranges:\n",
    "#             if len(j)!=0:\n",
    "# #                 print(j)\n",
    "#                 max_angle = max(j)\n",
    "#                 min_angle = min(j)\n",
    "#                 bool_vec = (angles>=min_angle) & (angles<=max_angle)\n",
    "#                 list_of_r.append(ij[bool_vec])\n",
    "\n",
    "#     list_of_valid_r = []\n",
    "#     for i,j in enumerate(list_of_r):\n",
    "#         if len(j)>10:\n",
    "#             j['labels'] = i\n",
    "#             list_of_valid_r.append(j)\n",
    "#     return list_of_valid_r"
   ]
  },
  {
   "cell_type": "code",
   "execution_count": null,
   "metadata": {},
   "outputs": [],
   "source": [
    "# list_of_valid_r = get_valid_r(list_of_valid_sec_phi)"
   ]
  },
  {
   "cell_type": "code",
   "execution_count": null,
   "metadata": {},
   "outputs": [],
   "source": [
    "# plot_sectors(list_of_valid_r)\n",
    "# # plot_sectors([list_of_valid_r[0]])\n",
    "# print(len(list_of_valid_r[0]))"
   ]
  },
  {
   "cell_type": "code",
   "execution_count": null,
   "metadata": {},
   "outputs": [],
   "source": [
    "# # segmenting intot clusters\n",
    "# def segment(df):\n",
    "#     objects = []\n",
    "#     for i,j in enumerate(df):\n",
    "#         temp = get_valid_r(get_phi_sectors(get_different_sectors(remove_out(j))))\n",
    "#         objects.append(temp)\n",
    "#         print(\"original clusters = {}, number of detected = {}\".format(out_cluster[i],len(temp)))\n",
    "#     return objects"
   ]
  },
  {
   "cell_type": "code",
   "execution_count": null,
   "metadata": {},
   "outputs": [],
   "source": [
    "# list_of_objects = segment(dataframes)"
   ]
  },
  {
   "cell_type": "code",
   "execution_count": null,
   "metadata": {},
   "outputs": [],
   "source": [
    "# list_of_valid_sec[10]"
   ]
  },
  {
   "cell_type": "code",
   "execution_count": null,
   "metadata": {},
   "outputs": [],
   "source": [
    "# z = list_of_valid_sec[9]['Z'].to_numpy()\n",
    "# x = list_of_valid_sec[9]['X'].to_numpy()"
   ]
  },
  {
   "cell_type": "code",
   "execution_count": null,
   "metadata": {},
   "outputs": [],
   "source": [
    "# to_check = np.round(np.arctan2(z,x)*180/np.pi,1)\n",
    "# to_check[to_check<0] = to_check[to_check<0]+360"
   ]
  },
  {
   "cell_type": "code",
   "execution_count": null,
   "metadata": {},
   "outputs": [],
   "source": [
    "# original = list_of_valid_sec[9]['angles'].to_numpy()\n",
    "# to_check==original"
   ]
  },
  {
   "cell_type": "code",
   "execution_count": null,
   "metadata": {},
   "outputs": [],
   "source": [
    "# original"
   ]
  },
  {
   "cell_type": "code",
   "execution_count": null,
   "metadata": {},
   "outputs": [],
   "source": [
    "# to_check"
   ]
  },
  {
   "cell_type": "code",
   "execution_count": null,
   "metadata": {},
   "outputs": [],
   "source": [
    "# np.unique(to_check)"
   ]
  },
  {
   "cell_type": "code",
   "execution_count": null,
   "metadata": {},
   "outputs": [],
   "source": [
    "# np.sum(to_check==220.7)"
   ]
  },
  {
   "cell_type": "code",
   "execution_count": null,
   "metadata": {},
   "outputs": [],
   "source": [
    "# temppppp = np.hstack([original.reshape(-1,1),to_check.reshape(-1,1),original.reshape(-1,1)])"
   ]
  },
  {
   "cell_type": "code",
   "execution_count": null,
   "metadata": {},
   "outputs": [],
   "source": [
    "# np.hstack([temppppp,original.reshape(-1,1),to_check.reshape(-1,1)])"
   ]
  },
  {
   "cell_type": "code",
   "execution_count": null,
   "metadata": {},
   "outputs": [],
   "source": [
    "\"\"\"\n",
    "    - First Remove the ground points\n",
    "    - Divide the points into sectors\n",
    "    - Segment the objects according to the density\n",
    "    - Use XZ DBSCAN to segment these objects\n",
    "    - Plot the results and investigate\n",
    "\"\"\"\n",
    "temp = dataframes[0]\n",
    "no_out = remove_out(temp)\n",
    "sectors = get_different_sectors(no_out)\n",
    "densities = get_valid_density(sectors)\n",
    "objects = []\n",
    "count = 0\n",
    "\n",
    "for each in densities:\n",
    "    temp1 = removeOutWithDBSCAN(each, True,count, True)\n",
    "    if len(temp1)>=1:\n",
    "#         print(temp1)\n",
    "        count+=len(temp1['labels'].value_counts())\n",
    "        objects += [ pd.DataFrame(y) for x,y in temp1.groupby('labels',as_index=False) ]\n",
    "    "
   ]
  },
  {
   "cell_type": "code",
   "execution_count": null,
   "metadata": {},
   "outputs": [],
   "source": [
    "# print(\"Predicted objects\",len(objects))\n",
    "# print(\"Densities\",len(densities))\n",
    "# print(out_cluster[0])\n",
    "# outfile_list[0]"
   ]
  },
  {
   "cell_type": "code",
   "execution_count": null,
   "metadata": {},
   "outputs": [],
   "source": [
    "# for i in objects:\n",
    "#     plot_sectors([i],True, True)"
   ]
  },
  {
   "cell_type": "code",
   "execution_count": null,
   "metadata": {},
   "outputs": [],
   "source": [
    "# plot_sectors(objects,True)"
   ]
  }
 ],
 "metadata": {
  "kernelspec": {
   "display_name": "Python 3",
   "language": "python",
   "name": "python3"
  },
  "language_info": {
   "codemirror_mode": {
    "name": "ipython",
    "version": 3
   },
   "file_extension": ".py",
   "mimetype": "text/x-python",
   "name": "python",
   "nbconvert_exporter": "python",
   "pygments_lexer": "ipython3",
   "version": "3.6.7"
  }
 },
 "nbformat": 4,
 "nbformat_minor": 2
}
